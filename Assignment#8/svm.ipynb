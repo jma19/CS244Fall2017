{
 "cells": [
  {
   "cell_type": "markdown",
   "metadata": {},
   "source": [
    "# Pre-Processing Data \n",
    "1. transform data into (x, y, z, activity) format\n",
    "2. shuffle data randomly \n",
    "3. split data into two parts: train and test data set"
   ]
  },
  {
   "cell_type": "code",
   "execution_count": 16,
   "metadata": {
    "collapsed": false
   },
   "outputs": [],
   "source": [
    "import numpy as np\n",
    "import matplotlib.pyplot as plt\n",
    "import random\n",
    "from sklearn.metrics import mean_squared_error\n",
    "from sklearn import preprocessing\n",
    "%matplotlib inline\n",
    "\n",
    "def split(data, rate):\n",
    "    length = (int)(len(data) * rate)\n",
    "    train = data[:length]\n",
    "    test = data[length:]\n",
    "    return train, test\n",
    "\n",
    "data = np.genfromtxt(\"team9_assignment8_sleeping.csv\", dtype=float, delimiter=',', names=True)\n",
    "data1 = np.genfromtxt(\"team9_assignment8_sitting.csv\", dtype=float, delimiter=',', names=True)\n",
    "data2 = np.genfromtxt(\"team9_assignment8_standing.csv\", dtype=float, delimiter=',', names=True)\n",
    "data3 = np.genfromtxt(\"team9_assignment8_walking.csv\", dtype=float, delimiter=',', names=True)\n",
    "\n",
    "X = list(data[\"X\"])\n",
    "Y = list(data[\"Y\"])\n",
    "Z = list(data[\"Z\"])\n",
    "\n",
    "length = len(X);\n",
    "\n",
    "Act = list([0] * length)\n",
    "X_1 = list(data1[\"X\"])\n",
    "Y_1 = list(data1[\"Y\"])\n",
    "Z_1 = list(data1[\"Z\"])\n",
    "Act_1 = list([1] * length)\n",
    "\n",
    "X_2 = list(data2[\"X\"])\n",
    "Y_2 = list(data2[\"Y\"])\n",
    "Z_2 = list(data2[\"Z\"])\n",
    "Act_2 =  list([2] * length)\n",
    "X_3 = list(data3[\"X\"])\n",
    "Y_3 = list(data3[\"Y\"])\n",
    "Z_3 = list(data3[\"Z\"])\n",
    "Act_3 =  list([1] * length)\n",
    "# append multiple \n",
    "X_Col = X + X_1 + X_2 + X_3\n",
    "Y_Col = Y + Y_1 + Y_2 + Y_3\n",
    "Z_Col = Z + Z_1 + Z_2 + Z_3\n",
    "Act_Col = Act + Act_1 + Act_2 + Act_3\n",
    "\n",
    "assert(np.shape(X_Col) == np.shape(Y_Col))\n",
    "assert(np.shape(X_Col) == np.shape(Z_Col))\n",
    "assert(np.shape(X_Col) == np.shape(Act_Col))\n",
    "OriginData = np.array([(X_Col[i], Y_Col[i], Z_Col[i], Act_Col[i]) for i in range(len(X_Col))])\n",
    "assert(np.shape(OriginData) == (np.shape(X_Col)[0], 4)) \n",
    "# random.shuffle(OriginData)\n",
    "# train, test = split(OriginData, 0.9)"
   ]
  },
  {
   "cell_type": "markdown",
   "metadata": {},
   "source": [
    "# 3. Support vector machine"
   ]
  },
  {
   "cell_type": "code",
   "execution_count": 24,
   "metadata": {
    "collapsed": false
   },
   "outputs": [
    {
     "data": {
      "text/plain": [
       "SVC(C=1.0, cache_size=200, class_weight=None, coef0=0.0,\n",
       "  decision_function_shape='ovo', degree=3, gamma='auto', kernel='rbf',\n",
       "  max_iter=-1, probability=False, random_state=None, shrinking=True,\n",
       "  tol=0.001, verbose=False)"
      ]
     },
     "execution_count": 24,
     "metadata": {},
     "output_type": "execute_result"
    }
   ],
   "source": [
    "from sklearn.model_selection import GridSearchCV\n",
    "from sklearn.preprocessing import normalize\n",
    "from sklearn import svm\n",
    "feature = normalize(OriginData[:, 0:3])\n",
    "label = OriginData[:, -1]\n",
    "svm = svm.SVC(decision_function_shape='ovo')\n",
    "svm.fit(feature, label) "
   ]
  },
  {
   "cell_type": "code",
   "execution_count": 28,
   "metadata": {
    "collapsed": false
   },
   "outputs": [
    {
     "name": "stdout",
     "output_type": "stream",
     "text": [
      "the MSE is 0.000000\n",
      "the MSE is 0.001645\n",
      "the MSE is 0.179145\n",
      "the MSE is 0.312697\n"
     ]
    }
   ],
   "source": [
    "predict_act_0 = svm.predict(feature[0:length])\n",
    "predict_act_1 = svm.predict(feature[length:length * 2])\n",
    "predict_act_2 = svm.predict(feature[length * 2:length *3])\n",
    "predict_act_3 = svm.predict(feature[length *3:length * 4])\n",
    "print 'the MSE is %f' % ( mean_squared_error(label[0:length], predict_act_0))\n",
    "print 'the MSE is %f' % ( mean_squared_error(label[length:length * 2], predict_act_1))\n",
    "print 'the MSE is %f' % (mean_squared_error(label[length * 2:length * 3], predict_act_2))\n",
    "print 'the MSE is %f' % ( mean_squared_error(label[length * 3:length * 4], predict_act_3))"
   ]
  },
  {
   "cell_type": "code",
   "execution_count": 23,
   "metadata": {
    "collapsed": false
   },
   "outputs": [
    {
     "data": {
      "text/plain": [
       "array([[ 0.06911074,  0.02961889,  0.99716921],\n",
       "       [ 0.06911074,  0.02961889,  0.99716921],\n",
       "       [ 0.06911074,  0.02961889,  0.99716921],\n",
       "       ..., \n",
       "       [-0.7730354 ,  0.00991071,  0.63428546],\n",
       "       [-0.08952676,  0.04973709,  0.99474177],\n",
       "       [ 0.1658294 , -0.06633176,  0.98392109]])"
      ]
     },
     "execution_count": 23,
     "metadata": {},
     "output_type": "execute_result"
    }
   ],
   "source": []
  },
  {
   "cell_type": "code",
   "execution_count": null,
   "metadata": {
    "collapsed": true
   },
   "outputs": [],
   "source": []
  }
 ],
 "metadata": {
  "kernelspec": {
   "display_name": "Python 2",
   "language": "python",
   "name": "python2"
  },
  "language_info": {
   "codemirror_mode": {
    "name": "ipython",
    "version": 2
   },
   "file_extension": ".py",
   "mimetype": "text/x-python",
   "name": "python",
   "nbconvert_exporter": "python",
   "pygments_lexer": "ipython2",
   "version": "2.7.12"
  }
 },
 "nbformat": 4,
 "nbformat_minor": 1
}
